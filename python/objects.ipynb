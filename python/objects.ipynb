{
 "cells": [
  {
   "cell_type": "markdown",
   "id": "7121cce0-5c7c-47d4-acad-9066dab8d354",
   "metadata": {},
   "source": [
    "# Objects\n",
    "1. Classes\n",
    "2. Inheritance\n",
    "3. Polymorphism\n",
    "4. Encapsulation (data access)"
   ]
  },
  {
   "cell_type": "markdown",
   "id": "77e0f5aa-833d-4a55-b644-745c4c9d8e04",
   "metadata": {},
   "source": [
    "## 1. Classes"
   ]
  },
  {
   "cell_type": "code",
   "execution_count": 1,
   "id": "2cf5cd36-2a83-4ae7-97d9-8273a4acdd58",
   "metadata": {},
   "outputs": [],
   "source": [
    "class Person:\n",
    "    def __init__(self, name, age, nat):\n",
    "        self.name = name\n",
    "        self.age = age\n",
    "        self.nat = nat\n",
    "    \n",
    "    def greet(self):\n",
    "        print(f'{self.name} is greeting you!')"
   ]
  },
  {
   "cell_type": "code",
   "execution_count": 2,
   "id": "3411df68-371d-4ac7-94a1-a819a1c84fb6",
   "metadata": {},
   "outputs": [
    {
     "name": "stdout",
     "output_type": "stream",
     "text": [
      "Alberto is greeting you!\n",
      "Age:  29\n",
      "Age:  9\n"
     ]
    }
   ],
   "source": [
    "my_person1 = Person('Alberto', 29, 'MXN')\n",
    "\n",
    "my_person1.greet()\n",
    "print('Age: ', my_person1.age)\n",
    "my_person1.age = 9\n",
    "print('Age: ', my_person1.age)"
   ]
  },
  {
   "cell_type": "markdown",
   "id": "c2022323-a558-4fea-a4fd-2afffe8ff67b",
   "metadata": {},
   "source": [
    "## 2. Inheritance"
   ]
  },
  {
   "cell_type": "code",
   "execution_count": 3,
   "id": "e5a04546-bc8d-4346-92a7-ec2840dad74b",
   "metadata": {},
   "outputs": [],
   "source": [
    "class Pokemon:\n",
    "    def __init__(self, name, style):\n",
    "        self.name = name\n",
    "        self.style = style\n",
    "        \n",
    "    def identify(self):\n",
    "        print(f'{self.name} is a {self.style} style pokemon')\n",
    "        \n",
    "    def attack(self):\n",
    "        print(f'{self.name} is attacking with tackle')"
   ]
  },
  {
   "cell_type": "code",
   "execution_count": 4,
   "id": "fb92772f-76f8-4544-9c9f-016ea5dd9fca",
   "metadata": {},
   "outputs": [
    {
     "name": "stdout",
     "output_type": "stream",
     "text": [
      "Juan is a generic style pokemon\n",
      "Juan is attacking with tackle\n"
     ]
    }
   ],
   "source": [
    "my_pokemon1 = Pokemon('Juan', 'generic')\n",
    "\n",
    "my_pokemon1.identify()\n",
    "my_pokemon1.attack()"
   ]
  },
  {
   "cell_type": "code",
   "execution_count": 5,
   "id": "a02419e1-8209-4eb8-a8d7-4636fd10b060",
   "metadata": {},
   "outputs": [],
   "source": [
    "class Pikachu(Pokemon):\n",
    "    def say_pika(self, num):\n",
    "        print(f'{self.name} is saying pika-pika {num} times')"
   ]
  },
  {
   "cell_type": "code",
   "execution_count": 7,
   "id": "c3e4decf-8aee-44f2-8875-f27dbd8dd2ef",
   "metadata": {},
   "outputs": [
    {
     "name": "stdout",
     "output_type": "stream",
     "text": [
      "Juan is a generic style pokemon\n",
      "Juan is attacking with tackle\n",
      "Juan is saying pika-pika 2 times\n"
     ]
    }
   ],
   "source": [
    "my_pokemon2 = Pikachu('Juan', 'generic')\n",
    "\n",
    "my_pokemon2.identify()\n",
    "my_pokemon2.attack()\n",
    "my_pokemon2.say_pika(2)"
   ]
  },
  {
   "cell_type": "markdown",
   "id": "de3a836b-b8d9-4f84-ac52-b0c9309aa4a2",
   "metadata": {},
   "source": [
    "## 3. Polymorphism"
   ]
  },
  {
   "cell_type": "code",
   "execution_count": 8,
   "id": "7f55ef58-b45e-45bc-9a98-cf25d6de043a",
   "metadata": {},
   "outputs": [],
   "source": [
    "class Charizard(Pokemon):\n",
    "    def attack(self, num):\n",
    "        print(f'{self.name} is attacking with flamethrower {num} times')"
   ]
  },
  {
   "cell_type": "code",
   "execution_count": 9,
   "id": "0b120b8a-ced8-4b2f-8bb5-240c91439b34",
   "metadata": {},
   "outputs": [
    {
     "name": "stdout",
     "output_type": "stream",
     "text": [
      "Heinz is a Fire style pokemon\n",
      "Heinz is attacking with flamethrower 3 times\n"
     ]
    }
   ],
   "source": [
    "my_pokemon3 = Charizard('Heinz', 'Fire')\n",
    "\n",
    "my_pokemon3.identify()\n",
    "my_pokemon3.attack(3)"
   ]
  },
  {
   "cell_type": "markdown",
   "id": "e61cfb61-b685-4d04-b3db-6d1a575ed7fc",
   "metadata": {},
   "source": [
    "## 4. Encapsulation (Data accessing)"
   ]
  },
  {
   "cell_type": "code",
   "execution_count": 11,
   "id": "6b5cea2c-52e7-4d1e-a9a6-ad030a9799b8",
   "metadata": {},
   "outputs": [],
   "source": [
    "class Bank_account:\n",
    "    def __init__(self, name, psw, amount):\n",
    "        self.name = name\n",
    "        self.__psw = psw\n",
    "        self.__amount = amount\n",
    "        \n",
    "    def get_amount(self, psw):\n",
    "        if psw == self.__psw:\n",
    "            print(f'{self.name} amount: ', self.__amount)\n",
    "        else:\n",
    "            print('Wrong password.')\n",
    "            \n",
    "    def set_amount(self, psw, amount):\n",
    "        if psw == self.__psw:\n",
    "            self.__amount = self.__amount + amount\n",
    "        else:\n",
    "            print('Wrong password.')"
   ]
  },
  {
   "cell_type": "code",
   "execution_count": 14,
   "id": "1d895bf0-cbce-4e82-bc8b-e0d904850478",
   "metadata": {},
   "outputs": [
    {
     "name": "stdout",
     "output_type": "stream",
     "text": [
      "Alberto amount:  98765\n",
      "Alberto amount:  108765\n"
     ]
    }
   ],
   "source": [
    "my_account = Bank_account('Alberto', 1234, 98765)\n",
    "\n",
    "my_account.get_amount(1234)\n",
    "my_account.set_amount(1234, 10000)\n",
    "my_account.get_amount(1234)"
   ]
  },
  {
   "cell_type": "code",
   "execution_count": 17,
   "id": "ce5ffc9f-8610-49fb-92e4-054debc68a58",
   "metadata": {},
   "outputs": [
    {
     "ename": "AttributeError",
     "evalue": "'Bank_account' object has no attribute '__amount'",
     "output_type": "error",
     "traceback": [
      "\u001b[0;31m---------------------------------------------------------------------------\u001b[0m",
      "\u001b[0;31mAttributeError\u001b[0m                            Traceback (most recent call last)",
      "\u001b[0;32m/tmp/ipykernel_30645/2592582136.py\u001b[0m in \u001b[0;36m<cell line: 1>\u001b[0;34m()\u001b[0m\n\u001b[0;32m----> 1\u001b[0;31m \u001b[0mprint\u001b[0m\u001b[0;34m(\u001b[0m\u001b[0mmy_account\u001b[0m\u001b[0;34m.\u001b[0m\u001b[0m__amount\u001b[0m\u001b[0;34m)\u001b[0m\u001b[0;34m\u001b[0m\u001b[0;34m\u001b[0m\u001b[0m\n\u001b[0m",
      "\u001b[0;31mAttributeError\u001b[0m: 'Bank_account' object has no attribute '__amount'"
     ]
    }
   ],
   "source": [
    "print(my_account.__amount)"
   ]
  },
  {
   "cell_type": "code",
   "execution_count": null,
   "id": "aeb97ccf-b22c-4d0b-a362-231a115f9ab2",
   "metadata": {},
   "outputs": [],
   "source": []
  }
 ],
 "metadata": {
  "kernelspec": {
   "display_name": "Python 3 (ipykernel)",
   "language": "python",
   "name": "python3"
  },
  "language_info": {
   "codemirror_mode": {
    "name": "ipython",
    "version": 3
   },
   "file_extension": ".py",
   "mimetype": "text/x-python",
   "name": "python",
   "nbconvert_exporter": "python",
   "pygments_lexer": "ipython3",
   "version": "3.10.6"
  }
 },
 "nbformat": 4,
 "nbformat_minor": 5
}
