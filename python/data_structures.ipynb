{
 "cells": [
  {
   "cell_type": "markdown",
   "id": "6b69dbd6-3893-4cd1-a8e6-b24cd0a39026",
   "metadata": {},
   "source": [
    "# Data structures\n",
    "1. Sets\n",
    "2. Lists\n",
    "3. Tuples\n",
    "4. Dictionaries"
   ]
  },
  {
   "cell_type": "markdown",
   "id": "57fb1bb8-e420-4f75-a65d-2690b78727f8",
   "metadata": {},
   "source": [
    "## 1. Sets {}\n",
    "- Non-indexed\n",
    "- Non-repeated"
   ]
  },
  {
   "cell_type": "code",
   "execution_count": 1,
   "id": "01dca726-af53-4b2c-9721-648a790f2107",
   "metadata": {},
   "outputs": [
    {
     "name": "stdout",
     "output_type": "stream",
     "text": [
      "{'MXN', 29, True, 'Alberto'}\n",
      "<class 'set'>\n"
     ]
    }
   ],
   "source": [
    "# Set creation\n",
    "my_set1 = {'Alberto', 29, 'MXN', True}\n",
    "print(my_set1)\n",
    "print(type(my_set1))"
   ]
  },
  {
   "cell_type": "code",
   "execution_count": 2,
   "id": "01c32166-b9df-434c-a9a0-6c901ef86cd8",
   "metadata": {},
   "outputs": [
    {
     "name": "stdout",
     "output_type": "stream",
     "text": [
      "{1, 2, 3, 4, 5, 6, 7, 8, 9}\n"
     ]
    }
   ],
   "source": [
    "my_set2 = {1, 2, 3, 4, 5, 6, 7, 8,9, 1, 2, 3}\n",
    "print(my_set2)"
   ]
  },
  {
   "cell_type": "code",
   "execution_count": 3,
   "id": "a216383d-93f6-4f3b-8e87-92120b257f55",
   "metadata": {},
   "outputs": [
    {
     "name": "stdout",
     "output_type": "stream",
     "text": [
      "{1, 2, 3, 4, 5, 6, 7, 8, 9, 10}\n"
     ]
    }
   ],
   "source": [
    "# Adding an element to a set\n",
    "my_set2.add(10)\n",
    "print(my_set2)"
   ]
  },
  {
   "cell_type": "code",
   "execution_count": 4,
   "id": "48392e5e-e897-4c4c-948d-1431e993eda8",
   "metadata": {},
   "outputs": [
    {
     "name": "stdout",
     "output_type": "stream",
     "text": [
      "Union:  {1, 2, 3, 4, 5, 6, 7, 8, 9, 10, 12, 14, 16}\n",
      "Intersection:  {2, 4, 6, 8, 10}\n"
     ]
    }
   ],
   "source": [
    "# Sets operations\n",
    "my_set3 = {2, 4, 6, 8, 10, 12, 14, 16}\n",
    "print('Union: ', my_set2 | my_set3)\n",
    "print('Intersection: ', my_set2 & my_set3) "
   ]
  },
  {
   "cell_type": "markdown",
   "id": "4624ac16-d49f-423b-b6d4-a07622a938f6",
   "metadata": {},
   "source": [
    "## 2. Lists []\n",
    "- Indexed\n",
    "- Mutable"
   ]
  },
  {
   "cell_type": "code",
   "execution_count": 5,
   "id": "a2f0ef4e-2031-4aca-bd35-443b142c1e02",
   "metadata": {},
   "outputs": [
    {
     "name": "stdout",
     "output_type": "stream",
     "text": [
      "['Alberto', 29, 'MXN', True]\n",
      "<class 'list'>\n"
     ]
    }
   ],
   "source": [
    "my_list1 = ['Alberto', 29, 'MXN', True]\n",
    "my_list2 = ['Dog', 'Roco', 7]\n",
    "\n",
    "print(my_list1)\n",
    "print(type(my_list1))"
   ]
  },
  {
   "cell_type": "code",
   "execution_count": 8,
   "id": "0a8f1cce-bb8d-48e7-815b-57de10eda295",
   "metadata": {},
   "outputs": [
    {
     "name": "stdout",
     "output_type": "stream",
     "text": [
      "['Alberto', 29, 'MXN', True, 'xy', 'xy', 'xy']\n"
     ]
    }
   ],
   "source": [
    "# Appending an element to a list\n",
    "my_list1.append('xy')\n",
    "print(my_list1)"
   ]
  },
  {
   "cell_type": "code",
   "execution_count": 10,
   "id": "6d5561cb-be05-4e64-bcc5-af5804c153ca",
   "metadata": {},
   "outputs": [
    {
     "name": "stdout",
     "output_type": "stream",
     "text": [
      "['Alberto', 29, 'MXN', True, 'xy']\n"
     ]
    }
   ],
   "source": [
    "# Removing elements of a list\n",
    "my_list1.remove('xy')\n",
    "print(my_list1)"
   ]
  },
  {
   "cell_type": "code",
   "execution_count": 11,
   "id": "e9b59fa4-1d05-4f60-8c18-3ef6a433d22e",
   "metadata": {},
   "outputs": [
    {
     "name": "stdout",
     "output_type": "stream",
     "text": [
      "['Alberto', 29, 'single', 'MXN', True, 'xy']\n"
     ]
    }
   ],
   "source": [
    "# Insert an element in an arbitrary position\n",
    "my_list1.insert(2, 'single')\n",
    "print(my_list1)"
   ]
  },
  {
   "cell_type": "code",
   "execution_count": 12,
   "id": "4f12d275-7733-498a-afdf-f60ee95980ce",
   "metadata": {},
   "outputs": [
    {
     "name": "stdout",
     "output_type": "stream",
     "text": [
      "Civil state:  single\n"
     ]
    }
   ],
   "source": [
    "print('Civil state: ', my_list1[2])"
   ]
  },
  {
   "cell_type": "code",
   "execution_count": 13,
   "id": "b2b571eb-38c7-4bce-a2aa-0ffe7652e261",
   "metadata": {},
   "outputs": [
    {
     "name": "stdout",
     "output_type": "stream",
     "text": [
      "['Alberto', 29, 'married', 'MXN', ['w1', 'w2', 'w3'], 'xy']\n"
     ]
    }
   ],
   "source": [
    "my_list1[2] = 'married'\n",
    "my_list1[4] = ['w1', 'w2', 'w3']\n",
    "print(my_list1)"
   ]
  },
  {
   "cell_type": "code",
   "execution_count": 14,
   "id": "09226c0c-ba57-4a5b-87f9-e7c424537ce3",
   "metadata": {},
   "outputs": [
    {
     "name": "stdout",
     "output_type": "stream",
     "text": [
      "['Alberto', 29, 'married', 'MXN', ['w1', 'w2', 'w3'], 'xy', 'Dog', 'Roco', 7]\n"
     ]
    }
   ],
   "source": [
    "my_list1.extend(my_list2)\n",
    "print(my_list1)"
   ]
  },
  {
   "cell_type": "code",
   "execution_count": 15,
   "id": "9f4f1808-8a29-4c26-a57e-764fc5d14824",
   "metadata": {},
   "outputs": [
    {
     "name": "stdout",
     "output_type": "stream",
     "text": [
      "['Alberto', 29, 'married', 'MXN', ['w1', 'Sofia', 'w3'], 'xy', 'Dog', 'Roco', 7]\n"
     ]
    }
   ],
   "source": [
    "my_list1[4][1] = 'Sofia'\n",
    "print(my_list1)"
   ]
  },
  {
   "cell_type": "markdown",
   "id": "91471fcb-7dae-4351-9033-9b235e1eb4fe",
   "metadata": {},
   "source": [
    "### List comprehension"
   ]
  },
  {
   "cell_type": "code",
   "execution_count": 21,
   "id": "b0d8c97b-2ac8-4a43-9b0f-35245b390276",
   "metadata": {},
   "outputs": [
    {
     "name": "stdout",
     "output_type": "stream",
     "text": [
      "[2, 4, 6, 8, 10, 12, 14, 16, 18, 20, 22, 24, 26, 28, 30, 32, 34, 36, 38, 40, 42, 44, 46, 48, 50]\n"
     ]
    }
   ],
   "source": [
    "my_list3 = list()\n",
    "\n",
    "for i in range(1, 51):\n",
    "    if i%2==0:\n",
    "        my_list3.append(i)\n",
    "    \n",
    "print(my_list3)"
   ]
  },
  {
   "cell_type": "code",
   "execution_count": 24,
   "id": "f763fbbb-f424-4307-81dc-3eb5d67c8eda",
   "metadata": {},
   "outputs": [
    {
     "name": "stdout",
     "output_type": "stream",
     "text": [
      "[2, 4, 6, 8, 10, 12, 14, 16, 18, 20, 22, 24, 26, 28, 30, 32, 34, 36, 38, 40, 42, 44, 46, 48, 50]\n"
     ]
    }
   ],
   "source": [
    "# list comprehension\n",
    "my_list4 = [i for i in range(1, 51) if i%2==0]\n",
    "print(my_list4)"
   ]
  },
  {
   "cell_type": "markdown",
   "id": "44244872-dbfa-4e4c-a0f2-50d67b79b005",
   "metadata": {},
   "source": [
    "## 2. Tuples ()\n",
    "- Indexed\n",
    "- Non-mutable"
   ]
  },
  {
   "cell_type": "code",
   "execution_count": 16,
   "id": "6e54362c-03d6-4501-9a15-8d1e1f6605ed",
   "metadata": {},
   "outputs": [
    {
     "name": "stdout",
     "output_type": "stream",
     "text": [
      "('car', True, 3.1416, 333)\n",
      "<class 'tuple'>\n"
     ]
    }
   ],
   "source": [
    "my_tuple1 = ('car', True, 3.1416, 333)\n",
    "print(my_tuple1)\n",
    "print(type(my_tuple1))"
   ]
  },
  {
   "cell_type": "code",
   "execution_count": 17,
   "id": "d2d06d94-ada5-4056-bbed-7482181f3751",
   "metadata": {},
   "outputs": [
    {
     "name": "stdout",
     "output_type": "stream",
     "text": [
      "Number pi is defined as 3.1416 and is irrational\n"
     ]
    }
   ],
   "source": [
    "print(f'Number pi is defined as {my_tuple1[2]} and is irrational')"
   ]
  },
  {
   "cell_type": "code",
   "execution_count": 19,
   "id": "53a19493-080a-4e04-83b8-eac83c5b9c0e",
   "metadata": {},
   "outputs": [
    {
     "ename": "TypeError",
     "evalue": "'tuple' object does not support item assignment",
     "output_type": "error",
     "traceback": [
      "\u001b[0;31m---------------------------------------------------------------------------\u001b[0m",
      "\u001b[0;31mTypeError\u001b[0m                                 Traceback (most recent call last)",
      "\u001b[0;32m/tmp/ipykernel_5811/3051752701.py\u001b[0m in \u001b[0;36m<cell line: 1>\u001b[0;34m()\u001b[0m\n\u001b[0;32m----> 1\u001b[0;31m \u001b[0mmy_tuple1\u001b[0m\u001b[0;34m[\u001b[0m\u001b[0;36m2\u001b[0m\u001b[0;34m]\u001b[0m \u001b[0;34m=\u001b[0m \u001b[0;36m3.141592\u001b[0m\u001b[0;34m\u001b[0m\u001b[0;34m\u001b[0m\u001b[0m\n\u001b[0m",
      "\u001b[0;31mTypeError\u001b[0m: 'tuple' object does not support item assignment"
     ]
    }
   ],
   "source": [
    "my_tuple1[2] = 3.141592"
   ]
  },
  {
   "cell_type": "markdown",
   "id": "4814271c-f073-4b27-b7f9-f93cf6b2c583",
   "metadata": {},
   "source": [
    "## 4. Dictionaries\n",
    "- Non-indexed\n",
    "- Mutable"
   ]
  },
  {
   "cell_type": "code",
   "execution_count": 25,
   "id": "76796350-e466-4d74-b33d-54e36307fe58",
   "metadata": {},
   "outputs": [
    {
     "name": "stdout",
     "output_type": "stream",
     "text": [
      "{'name': 'Alberto', 'age': 29, 'student': True}\n",
      "<class 'dict'>\n"
     ]
    }
   ],
   "source": [
    "# Creating a dictionary\n",
    "my_dict1 = {'name':'Alberto', 'age':29, 'student':True}\n",
    "print(my_dict1)\n",
    "print(type(my_dict1))"
   ]
  },
  {
   "cell_type": "code",
   "execution_count": 26,
   "id": "de833a45-97ba-48f2-9e08-52a54070570b",
   "metadata": {},
   "outputs": [
    {
     "name": "stdout",
     "output_type": "stream",
     "text": [
      "Name:  Alberto\n",
      "Age:  29\n",
      "Student?:  True\n"
     ]
    }
   ],
   "source": [
    "# Reading the elements of a dictionary\n",
    "print('Name: ', my_dict1['name'])\n",
    "print('Age: ', my_dict1['age'])\n",
    "print('Student?: ', my_dict1['student'])"
   ]
  },
  {
   "cell_type": "code",
   "execution_count": 27,
   "id": "04fd7773-bcce-41e7-9e7c-d53dcb0c20f6",
   "metadata": {},
   "outputs": [
    {
     "name": "stdout",
     "output_type": "stream",
     "text": [
      "{'name': 'Alberto', 'age': 29, 'student': False}\n"
     ]
    }
   ],
   "source": [
    "my_dict1['student'] = False\n",
    "print(my_dict1)"
   ]
  },
  {
   "cell_type": "code",
   "execution_count": 28,
   "id": "805e3fb3-c90e-495a-a4a3-08573874f47a",
   "metadata": {},
   "outputs": [
    {
     "name": "stdout",
     "output_type": "stream",
     "text": [
      "dict_keys(['name', 'age', 'student'])\n"
     ]
    }
   ],
   "source": [
    "# Showing the keys of a dictionary\n",
    "print(my_dict1.keys())"
   ]
  },
  {
   "cell_type": "code",
   "execution_count": 29,
   "id": "3c15c886-ce19-4bd4-99f4-334ce17e9729",
   "metadata": {},
   "outputs": [
    {
     "name": "stdout",
     "output_type": "stream",
     "text": [
      "dict_values(['Alberto', 29, False])\n"
     ]
    }
   ],
   "source": [
    "#  Showing the values\n",
    "print(my_dict1.values())"
   ]
  },
  {
   "cell_type": "code",
   "execution_count": null,
   "id": "45bfd502-64f5-4a93-b3a7-9a23e81d1628",
   "metadata": {},
   "outputs": [],
   "source": []
  }
 ],
 "metadata": {
  "kernelspec": {
   "display_name": "Python 3 (ipykernel)",
   "language": "python",
   "name": "python3"
  },
  "language_info": {
   "codemirror_mode": {
    "name": "ipython",
    "version": 3
   },
   "file_extension": ".py",
   "mimetype": "text/x-python",
   "name": "python",
   "nbconvert_exporter": "python",
   "pygments_lexer": "ipython3",
   "version": "3.10.6"
  }
 },
 "nbformat": 4,
 "nbformat_minor": 5
}
