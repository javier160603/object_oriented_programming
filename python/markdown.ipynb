{
 "cells": [
  {
   "cell_type": "markdown",
   "id": "79433c32-bc4a-4d0b-89df-17d1c011032b",
   "metadata": {},
   "source": [
    "# Title: Level 1\n",
    "## Title: Level 2\n",
    "### Title: Level 3\n",
    "#### Title: Level 4\n"
   ]
  },
  {
   "cell_type": "markdown",
   "id": "4740b820-5fc3-4e71-bdad-dd8001a49661",
   "metadata": {},
   "source": [
    "## Line breaks\n",
    "This is my first line. \n",
    "This is the second line but is not working.<br>\n",
    "This is the third line."
   ]
  },
  {
   "cell_type": "markdown",
   "id": "e9540661-bb06-446b-aacf-55e641de3ddb",
   "metadata": {},
   "source": [
    "## Emphasis\n",
    "- This is **bold text**\n",
    "- This is *italic text*\n",
    "- This is ***italic and bold text***"
   ]
  },
  {
   "cell_type": "markdown",
   "id": "588cda7b-163b-4c49-b4ae-2f2e431574cb",
   "metadata": {},
   "source": [
    "## Quotations\n",
    "> *\"Don't believe everything you read at the internet.\"* **Plato**"
   ]
  },
  {
   "cell_type": "markdown",
   "id": "2ea24e21-c4fe-4cbc-b7f5-46cdb8c36a7c",
   "metadata": {},
   "source": [
    "## Lists\n",
    "1. One\n",
    "2. Two\n",
    "3. Three\n",
    "4. Four"
   ]
  },
  {
   "cell_type": "markdown",
   "id": "19bbf2ea-146b-4f54-a18e-4d706337b313",
   "metadata": {},
   "source": [
    "## Images\n",
    "![Tux](tux.png)"
   ]
  },
  {
   "cell_type": "markdown",
   "id": "829eec27-932b-42ec-bd48-522c81812971",
   "metadata": {},
   "source": [
    "## Tables\n",
    "|T1|T2|T3|\n",
    "|--|--|--|\n",
    "|a1|a2|a3|\n",
    "|b1|b2|b3|"
   ]
  },
  {
   "cell_type": "markdown",
   "id": "9458ebd8-03ca-46bc-a851-7c6e0d86227a",
   "metadata": {},
   "source": [
    "## Equations\n",
    "$$F(s) = \\int_{-\\infty}^{\\infty} f(t)e^{-st} dt$$"
   ]
  },
  {
   "cell_type": "code",
   "execution_count": null,
   "id": "3a8124d7-e0b6-4aad-8163-a9cc3352f3d6",
   "metadata": {},
   "outputs": [],
   "source": []
  }
 ],
 "metadata": {
  "kernelspec": {
   "display_name": "Python 3 (ipykernel)",
   "language": "python",
   "name": "python3"
  },
  "language_info": {
   "codemirror_mode": {
    "name": "ipython",
    "version": 3
   },
   "file_extension": ".py",
   "mimetype": "text/x-python",
   "name": "python",
   "nbconvert_exporter": "python",
   "pygments_lexer": "ipython3",
   "version": "3.10.6"
  }
 },
 "nbformat": 4,
 "nbformat_minor": 5
}
