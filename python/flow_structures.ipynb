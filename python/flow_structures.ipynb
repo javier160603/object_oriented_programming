{
 "cells": [
  {
   "cell_type": "markdown",
   "id": "6b65a35e-7410-4c3f-8708-3eb5d69cab35",
   "metadata": {},
   "source": [
    "# Flow structures\n",
    "1. if-else\n",
    "2. while\n",
    "3. for"
   ]
  },
  {
   "cell_type": "markdown",
   "id": "97adee72-3046-43ec-ab7d-866ed42ed7c4",
   "metadata": {},
   "source": [
    "## 1. if - else"
   ]
  },
  {
   "cell_type": "code",
   "execution_count": 6,
   "id": "898b5a2c-8769-4b39-93f0-e5b4e90b91c6",
   "metadata": {},
   "outputs": [
    {
     "name": "stdin",
     "output_type": "stream",
     "text": [
      "Write your age:  -25\n"
     ]
    },
    {
     "name": "stdout",
     "output_type": "stream",
     "text": [
      "Wrong age...\n"
     ]
    }
   ],
   "source": [
    "age = int(input('Write your age: '))\n",
    "\n",
    "if age > 0 and age <=12:\n",
    "    print('You are a child')\n",
    "elif age > 12 and age <= 18:\n",
    "    print('You are a teenager')\n",
    "elif age > 18 and age <= 60:\n",
    "    print('You are an adult!')\n",
    "elif age > 60 and age <= 127:\n",
    "    print('You are an elder')\n",
    "else:\n",
    "    print('Wrong age...')"
   ]
  },
  {
   "cell_type": "markdown",
   "id": "70c94fd7-a197-4869-bbb5-ddbf18427963",
   "metadata": {},
   "source": [
    "## 2. While"
   ]
  },
  {
   "cell_type": "code",
   "execution_count": 4,
   "id": "7334269f-57b3-4115-a3f4-887297e8cc33",
   "metadata": {},
   "outputs": [
    {
     "name": "stdin",
     "output_type": "stream",
     "text": [
      "Write a number:  23\n"
     ]
    },
    {
     "name": "stdout",
     "output_type": "stream",
     "text": [
      "2\n",
      "4\n",
      "6\n",
      "8\n",
      "10\n",
      "12\n",
      "14\n",
      "16\n",
      "18\n",
      "20\n",
      "22\n"
     ]
    }
   ],
   "source": [
    "num = int(input('Write a number: '))\n",
    "\n",
    "i = 1\n",
    "while i < num:\n",
    "    if i%2 == 0:\n",
    "        print(i)\n",
    "    i = i + 1"
   ]
  },
  {
   "cell_type": "markdown",
   "id": "65052fd3-877c-442a-82a2-e3d40635ef6f",
   "metadata": {},
   "source": [
    "## 3. For"
   ]
  },
  {
   "cell_type": "code",
   "execution_count": 5,
   "id": "614d89c4-688c-425b-9ac7-e37ba14a4e14",
   "metadata": {},
   "outputs": [
    {
     "name": "stdin",
     "output_type": "stream",
     "text": [
      "Write your name:  Alberto Sanchez\n"
     ]
    },
    {
     "name": "stdout",
     "output_type": "stream",
     "text": [
      "A\n",
      "l\n",
      "b\n",
      "e\n",
      "r\n",
      "t\n",
      "o\n",
      " \n",
      "S\n",
      "a\n",
      "n\n",
      "c\n",
      "h\n",
      "e\n",
      "z\n"
     ]
    }
   ],
   "source": [
    "name = input('Write your name: ')\n",
    "\n",
    "for letter in name:\n",
    "    print(letter)"
   ]
  },
  {
   "cell_type": "code",
   "execution_count": 6,
   "id": "92267264-9599-4ac1-8c3f-2d0be442ed91",
   "metadata": {},
   "outputs": [
    {
     "name": "stdout",
     "output_type": "stream",
     "text": [
      "Alberto\n",
      "29\n",
      "True\n"
     ]
    }
   ],
   "source": [
    "my_tuple = ('Alberto', 29, True)\n",
    "\n",
    "for element in my_tuple:\n",
    "    print(element)"
   ]
  },
  {
   "cell_type": "code",
   "execution_count": null,
   "id": "7d0cf932-4ed7-4017-a254-84d5386c1a4d",
   "metadata": {},
   "outputs": [],
   "source": []
  }
 ],
 "metadata": {
  "kernelspec": {
   "display_name": "Python 3 (ipykernel)",
   "language": "python",
   "name": "python3"
  },
  "language_info": {
   "codemirror_mode": {
    "name": "ipython",
    "version": 3
   },
   "file_extension": ".py",
   "mimetype": "text/x-python",
   "name": "python",
   "nbconvert_exporter": "python",
   "pygments_lexer": "ipython3",
   "version": "3.10.6"
  }
 },
 "nbformat": 4,
 "nbformat_minor": 5
}
