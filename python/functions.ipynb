{
 "cells": [
  {
   "cell_type": "markdown",
   "id": "7cf491a1-d6d5-4c9c-99e1-25a8a70833c5",
   "metadata": {},
   "source": [
    "# Functions\n",
    "1. Simple functions\n",
    "2. Lambdas\n",
    "3. Decorators"
   ]
  },
  {
   "cell_type": "markdown",
   "id": "fd51f16e-6877-4cca-a5fa-0a88c7fe9a20",
   "metadata": {},
   "source": [
    "## 1. Simple functions"
   ]
  },
  {
   "cell_type": "code",
   "execution_count": 1,
   "id": "e7befc7a-1801-43f7-8235-e93779e8e98e",
   "metadata": {},
   "outputs": [
    {
     "name": "stdout",
     "output_type": "stream",
     "text": [
      "3.3 + 7.65:  10.95\n"
     ]
    }
   ],
   "source": [
    "def add(n1, n2):\n",
    "    return n1 + n2\n",
    "\n",
    "print('3.3 + 7.65: ', add(3.3, 7.65))"
   ]
  },
  {
   "cell_type": "code",
   "execution_count": 2,
   "id": "a90d7354-2681-4084-abbb-854487ff1f3c",
   "metadata": {},
   "outputs": [
    {
     "name": "stdout",
     "output_type": "stream",
     "text": [
      "Separated: 5.5, 1.0999999999999996, 7.26\n",
      "Packed:  (5.5, 1.0999999999999996, 7.26)\n"
     ]
    }
   ],
   "source": [
    "# Multiple return function\n",
    "def operations(n1, n2):\n",
    "    return n1+n2, n1-n2, n1*n2\n",
    "\n",
    "r1, r2, r3 = operations(3.3, 2.2)\n",
    "r = operations(3.3, 2.2)\n",
    "\n",
    "print(f'Separated: {r1}, {r2}, {r3}')\n",
    "print('Packed: ', r)"
   ]
  },
  {
   "cell_type": "code",
   "execution_count": 3,
   "id": "e286e2d5-4d27-48ba-8dec-122bf3767561",
   "metadata": {},
   "outputs": [
    {
     "name": "stdout",
     "output_type": "stream",
     "text": [
      "<class 'tuple'>\n",
      "Avrg1:  81.66666666666667\n",
      "<class 'tuple'>\n",
      "Avrg2:  92.5\n"
     ]
    }
   ],
   "source": [
    "# Tuple as argument\n",
    "def prom(*args):\n",
    "    print(type(args))\n",
    "    return sum(args)/len(args)\n",
    "\n",
    "print('Avrg1: ', prom(100, 75, 70))\n",
    "print('Avrg2: ', prom(95, 95, 82, 98))"
   ]
  },
  {
   "cell_type": "markdown",
   "id": "fb473625-9ff0-4ab1-9e10-6e92a79e087d",
   "metadata": {},
   "source": [
    "## 2. Lambdas"
   ]
  },
  {
   "cell_type": "code",
   "execution_count": 7,
   "id": "fc15d616-e088-42b5-9c0e-e00755ac124b",
   "metadata": {},
   "outputs": [
    {
     "name": "stdout",
     "output_type": "stream",
     "text": [
      "3.3/4:  0.825\n",
      "3.3/0:  Division by zero\n"
     ]
    }
   ],
   "source": [
    "div = lambda n1, n2: n1/n2 if n2!=0 else 'Division by zero'\n",
    "\n",
    "print('3.3/4: ', div(3.3,4))\n",
    "print('3.3/0: ', div(3.3, 0))"
   ]
  },
  {
   "cell_type": "markdown",
   "id": "1d3dae00-278f-4924-abde-6358b040bed8",
   "metadata": {},
   "source": [
    "## 3. Decorators"
   ]
  },
  {
   "cell_type": "code",
   "execution_count": 1,
   "id": "2f262e93-e3bd-40d1-9d47-839b294b7ef5",
   "metadata": {},
   "outputs": [],
   "source": [
    "def header(fun):\n",
    "    def wrapper(*args):\n",
    "        print('\\n\\n Arithmetic function')\n",
    "        print('Alberto')\n",
    "        return fun(*args)\n",
    "    return wrapper"
   ]
  },
  {
   "cell_type": "code",
   "execution_count": 4,
   "id": "965d1a42-adf3-412a-80d1-1bfd7905440a",
   "metadata": {},
   "outputs": [],
   "source": [
    "def add(n1, n2):\n",
    "    return n1 + n2\n",
    "\n",
    "@header\n",
    "def sub(n1, n2):\n",
    "    return n1 - n2"
   ]
  },
  {
   "cell_type": "code",
   "execution_count": 5,
   "id": "f722837f-fda5-4f87-99ac-49ca6c7c9e82",
   "metadata": {},
   "outputs": [
    {
     "name": "stdin",
     "output_type": "stream",
     "text": [
      "Write a number:  3.3\n",
      "write another:  4.4\n"
     ]
    },
    {
     "name": "stdout",
     "output_type": "stream",
     "text": [
      "Addition:  7.7\n",
      "\n",
      "\n",
      " Arithmetic function\n",
      "Alberto\n",
      "Subtraction:  -1.1000000000000005\n"
     ]
    }
   ],
   "source": [
    "n1 = float(input('Write a number: '))\n",
    "n2 = float(input('write another: '))\n",
    "\n",
    "print('Addition: ', add(n1, n2))\n",
    "print('Subtraction: ', sub(n1, n2))"
   ]
  },
  {
   "cell_type": "code",
   "execution_count": null,
   "id": "02901027-7c4b-4358-8ff9-3d66a8cace24",
   "metadata": {},
   "outputs": [],
   "source": []
  }
 ],
 "metadata": {
  "kernelspec": {
   "display_name": "Python 3 (ipykernel)",
   "language": "python",
   "name": "python3"
  },
  "language_info": {
   "codemirror_mode": {
    "name": "ipython",
    "version": 3
   },
   "file_extension": ".py",
   "mimetype": "text/x-python",
   "name": "python",
   "nbconvert_exporter": "python",
   "pygments_lexer": "ipython3",
   "version": "3.10.6"
  }
 },
 "nbformat": 4,
 "nbformat_minor": 5
}
